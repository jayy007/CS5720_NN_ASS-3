{
 "cells": [
  {
   "cell_type": "code",
   "execution_count": 1,
   "id": "c171274c",
   "metadata": {},
   "outputs": [
    {
     "name": "stdout",
     "output_type": "stream",
     "text": [
      "full time employee Benefits.\n",
      "Average salary: 212500.0\n"
     ]
    }
   ],
   "source": [
    "#QUESTION 1\n",
    "#create a class employee.\n",
    "class Employee:\n",
    "    #create a datamember to count the no.of employees.\n",
    "    no_of_employees = 0\n",
    "\n",
    "    #create a constructor to initialize name,family,salary,department.\n",
    "    def __init__(self, name, family_name, salary, department):\n",
    "        self.__name = name\n",
    "        self.__family_name = family_name\n",
    "        self.salary = salary\n",
    "        self.__department = department\n",
    "        Employee.no_of_employees += 1\n",
    "\n",
    "\n",
    "    #create a function to average salary.\n",
    "    def average_salary(employees):\n",
    "        sum = 0\n",
    "        for employee in employees:\n",
    "            sum += employee.salary\n",
    "        return sum / Employee.no_of_employees\n",
    "    \n",
    "\n",
    "#create a fulltime emlpoyee class and it should inherit the properties of Employee class.\n",
    "class FulltimeEmployee(Employee) :\n",
    "\n",
    "    def __init__(self, name, family_name, salary, department):\n",
    "        super().__init__(name, family_name, salary, department)\n",
    "\n",
    "    def full_time_benefits(self):\n",
    "        print(\"full time employee Benefits.\")\n",
    "    \n",
    "\n",
    "#create the instances of Fulltime Employee class and employee class and call their member functions.\n",
    "def main():\n",
    "    employees = []\n",
    "    fte1 = FulltimeEmployee(\"E1\", \"Family1\", 200000, \"CSE\")\n",
    "    fte1.full_time_benefits()\n",
    "    employees.append(fte1)\n",
    "    fte2 = FulltimeEmployee(\"E2\", \"Family2\", 100000, \"IT\")\n",
    "    employees.append(fte2)\n",
    "    emp1 = Employee(\"E3\", \"Family3\", 250000, \"CIS\")\n",
    "    employees.append(emp1)\n",
    "    emp2 = Employee(\"E4\", \"Family4\", 300000, \"BD\")\n",
    "    employees.append(emp2)\n",
    "    print(\"Average salary:\", FulltimeEmployee.average_salary(employees))\n",
    "\n",
    "\n",
    "if __name__ == \"__main__\":\n",
    "    main()"
   ]
  },
  {
   "cell_type": "code",
   "execution_count": 4,
   "id": "9daa2aa9",
   "metadata": {},
   "outputs": [
    {
     "name": "stdout",
     "output_type": "stream",
     "text": [
      "Original array:\n",
      "[13.55238491 19.86164059  7.68722113 11.84393326 17.95704448  2.59418807\n",
      " 13.80231946  3.4973878   4.52880524 16.79038378  8.57295957  5.33979586\n",
      "  7.58876727 10.48530318 14.5236423   7.36724877  3.77122698 16.85288607\n",
      " 17.95887903 17.40173068]\n",
      "Reshaped Array: \n",
      "[[13.55238491 19.86164059  7.68722113 11.84393326 17.95704448]\n",
      " [ 2.59418807 13.80231946  3.4973878   4.52880524 16.79038378]\n",
      " [ 8.57295957  5.33979586  7.58876727 10.48530318 14.5236423 ]\n",
      " [ 7.36724877  3.77122698 16.85288607 17.95887903 17.40173068]]\n",
      "Maximum value replaced by 0:\n",
      "[[13.55238491  0.          7.68722113 11.84393326 17.95704448]\n",
      " [ 2.59418807 13.80231946  3.4973878   4.52880524  0.        ]\n",
      " [ 8.57295957  5.33979586  7.58876727 10.48530318  0.        ]\n",
      " [ 7.36724877  3.77122698 16.85288607  0.         17.40173068]]\n"
     ]
    }
   ],
   "source": [
    "#QUESTION2 \n",
    "#create a randomm vector of size 20 having only float in the range 1-20.\n",
    "import numpy as np\n",
    "x=np.random.uniform(1,20,20)\n",
    "print(\"Original array:\")\n",
    "print(x)\n",
    "#reshape the array to 4 by 5\n",
    "x1=x.reshape(4,5)\n",
    "print(\"Reshaped Array: \")\n",
    "print(x1)\n",
    "#replace the max in each row by 0  (axis=1)\n",
    "x1[np.arange(len(x1)), x1.argmax(1)]=0\n",
    "print(\"Maximum value replaced by 0:\")\n",
    "print(x1)"
   ]
  },
  {
   "cell_type": "code",
   "execution_count": null,
   "id": "7495fd8b",
   "metadata": {},
   "outputs": [],
   "source": []
  }
 ],
 "metadata": {
  "kernelspec": {
   "display_name": "Python 3 (ipykernel)",
   "language": "python",
   "name": "python3"
  },
  "language_info": {
   "codemirror_mode": {
    "name": "ipython",
    "version": 3
   },
   "file_extension": ".py",
   "mimetype": "text/x-python",
   "name": "python",
   "nbconvert_exporter": "python",
   "pygments_lexer": "ipython3",
   "version": "3.11.5"
  }
 },
 "nbformat": 4,
 "nbformat_minor": 5
}
